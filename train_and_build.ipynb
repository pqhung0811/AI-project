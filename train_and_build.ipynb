{
  "cells": [
    {
      "cell_type": "code",
      "source": [
        "from google.colab import drive\n",
        "drive.mount('/content/drive')"
      ],
      "metadata": {
        "colab": {
          "base_uri": "https://localhost:8080/"
        },
        "id": "voaH67zGRBIz",
        "outputId": "3c64e00b-a440-4dc1-fe21-572f97ea50b4"
      },
      "execution_count": null,
      "outputs": [
        {
          "output_type": "stream",
          "name": "stdout",
          "text": [
            "Mounted at /content/drive\n"
          ]
        }
      ]
    },
    {
      "cell_type": "code",
      "source": [
        "cd \"/content/drive/MyDrive/Thư mục không có tiêu đề/fer2013\""
      ],
      "metadata": {
        "colab": {
          "base_uri": "https://localhost:8080/"
        },
        "id": "xxBeCx0YTR_3",
        "outputId": "d57966ce-004c-45dd-f855-f3741c6c6d68"
      },
      "execution_count": null,
      "outputs": [
        {
          "output_type": "stream",
          "name": "stdout",
          "text": [
            "/content/drive/MyDrive/Thư mục không có tiêu đề/fer2013\n"
          ]
        }
      ]
    },
    {
      "cell_type": "markdown",
      "source": [
        "\n",
        "\n",
        "\n",
        "### **Load_data**\n",
        "\n"
      ],
      "metadata": {
        "id": "jCCfnpgWRVCf"
      }
    },
    {
      "cell_type": "code",
      "source": [
        "import os, cv2\n",
        "import numpy as np\n",
        "import pandas as pd\n",
        "from keras.utils import to_categorical\n",
        "from sklearn.utils import shuffle\n",
        "from PIL import Image\n",
        "\n",
        "def load_fer2013(file_path='data/fer2013.csv'):\n",
        "    \"\"\" Load fer2013.csv dataset from csv file \"\"\"\n",
        "    df = pd.read_csv(file_path)\n",
        "    train = df[df['Usage'] == 'Training']\n",
        "    val = df[df['Usage'] == 'PublicTest']\n",
        "    test = df[df['Usage'] == 'PrivateTest']\n",
        "    return train, val, test\n",
        "\n",
        "def parse_fer2013(data, target_size=(48, 48), target_channel=1):\n",
        "    \"\"\" Parse fer2013 data to images with specified sizes,\n",
        "        and one-hot vector as labels \"\"\"\n",
        "    real_image_size = (48, 48)\n",
        "    real_image_channel = 1\n",
        "    images = np.empty(shape=(len(data), *target_size, target_channel))\n",
        "    labels = np.empty(shape=(len(data), 1))\n",
        "    for i, idx in enumerate(data.index):\n",
        "        img = np.fromstring(data.loc[idx, 'pixels'], dtype='uint8', sep=' ')\n",
        "        img = np.reshape(img, (48, 48))\n",
        "        if target_size != real_image_size:\n",
        "            img = cv2.resize(img, target_size, interpolation=cv2.INTER_CUBIC)\n",
        "        img = img[..., np.newaxis]\n",
        "        if target_channel != real_image_channel:\n",
        "            img = np.repeat(img, repeats=target_channel, axis=-1)\n",
        "        label = data.loc[idx, 'emotion']\n",
        "        images[i] = img\n",
        "        labels[i] = label\n",
        "    labels = to_categorical(labels, 7)\n",
        "    return images, labels\n",
        "\n",
        "def fer_csv_to_png(file_path='data/fer2013.csv', data_dir='data/fer/'):\n",
        "    \"\"\" Unpack fer2013.csv file and save images to\n",
        "        specified folders \"\"\"\n",
        "    emotions = {0:'angry', 1:'disgust', 2:'fear',\n",
        "                3:'happy', 4:'sad', 5:'surprise', 6:'neutral'}\n",
        "    df = pd.read_csv(file_path)\n",
        "    for dataset in (\"train\", 'val', \"test\"):\n",
        "        for emotion in emotions:\n",
        "            os.mkdir(data_dir + f'{dataset}/{emotion} {emotions[emotion]}')\n",
        "    count = 0\n",
        "    for emotion, pixels, usage in zip(df['emotion'],df['pixels'],df['Usage']):\n",
        "        img = np.fromstring(pixels, dtype='uint8', sep=' ').reshape(48, 48)\n",
        "        img = Image.fromarray(img)\n",
        "        count_string = str(count).zfill(6)\n",
        "        path = data_dir\n",
        "        if usage == 'Training':\n",
        "            path += 'train/'\n",
        "        elif usage == 'PublicTest':\n",
        "            path += 'val/'\n",
        "        else:\n",
        "            path += 'test/'\n",
        "        emo_label = emotions[emotion]\n",
        "        img.save(path + f'{emotion} {emo_label}/{emo_label}-{count_string}.png')\n",
        "        count += 1"
      ],
      "metadata": {
        "id": "MrRRSgMxRUbo"
      },
      "execution_count": null,
      "outputs": []
    },
    {
      "cell_type": "markdown",
      "source": [
        "### **Plots**"
      ],
      "metadata": {
        "id": "przZ5JIFSG1x"
      }
    },
    {
      "cell_type": "code",
      "source": [
        "from matplotlib import pyplot as plt\n",
        "import numpy as np\n",
        "\n",
        "def plot_face_with_label(face, label, possible_emotions=None):\n",
        "    fig, ax = plt.subplots()\n",
        "    ax.imshow(face)\n",
        "    if possible_emotions and not isinstance(label, str):\n",
        "        label_idx = np.argmax(label)\n",
        "        label = possible_emotions[label_idx]\n",
        "    ax.set_title(label)\n",
        "\n",
        "def plot_model_history(history):\n",
        "    train_acc = history['accuracy']\n",
        "    val_acc = history['val_accuracy']\n",
        "    train_loss = history['loss']\n",
        "    val_loss = history['val_loss']\n",
        "\n",
        "    fig, (ax1, ax2) = plt.subplots(1, 2, figsize=(10,5))\n",
        "    ax1.plot(train_acc, label='Training Accuracy')\n",
        "    ax1.plot(val_acc, label='Validation Accuracy')\n",
        "    ax2.plot(train_loss, label='Training Loss')\n",
        "    ax2.plot(val_loss, label='Validation Loss')\n",
        "    ax1.set_title(\"Model accuracy\")\n",
        "    ax2.set_title(\"Model loss\")\n",
        "    ax1.legend()\n",
        "    ax2.legend()\n",
        "\n",
        "def plot_generated_images(data_gen, n_epochs=3, b_size=6, figsize=(11,6)):\n",
        "    emotions = {0:'angry', 1:'disgust', 2:'fear',\n",
        "                3:'happy', 4:'sad', 5:'surprise', 6:'neutral'}\n",
        "    counter = 0  \n",
        "    fig, axs = plt.subplots(n_epochs, b_size, figsize=figsize)\n",
        "    for epoch in range(n_epochs):\n",
        "        for (x_batch, y_batch) in data_gen:\n",
        "            for i in range(b_size):\n",
        "                emotion_label = emotions[np.argmax(y_batch[i])]\n",
        "                axs[counter][i].imshow(x_batch[i], \"gray\")\n",
        "                axs[counter][i].set_title(emotion_label)\n",
        "                axs[counter][i].set_axis_off()\n",
        "            break\n",
        "        data_gen.on_epoch_end()\n",
        "        counter += 1\n",
        "    plt.show()\n",
        "    fig.savefig('assets/gen_faces_.png')\n",
        "\n",
        "def plot_augumented_images(data_gen, n_epochs=3, b_size=6, figsize=(11,6)):\n",
        "    counter = 1\n",
        "    fig = plt.figure(figsize=figsize)\n",
        "    for epoch in range(n_epochs):\n",
        "        for i, (x_batch, _) in enumerate(data_gen):\n",
        "            plt.subplot(b_size, n_epochs, counter)\n",
        "            plt.imshow(x_batch[0], \"gray\")\n",
        "            plt.axis('off')\n",
        "            counter += 1\n",
        "            if i == b_size - 1:\n",
        "                break\n",
        "    plt.show()\n",
        "    fig.savefig('assets/aug_faces.png')"
      ],
      "metadata": {
        "id": "A0NnZyGMSJ1c"
      },
      "execution_count": null,
      "outputs": []
    },
    {
      "cell_type": "markdown",
      "source": [
        "### **Generator**"
      ],
      "metadata": {
        "id": "OvLZyhrYSLBf"
      }
    },
    {
      "cell_type": "code",
      "source": [
        "from tensorflow.keras.preprocessing.image import ImageDataGenerator\n",
        "from keras.utils import Sequence\n",
        "import numpy as np\n",
        "import cv2\n",
        "\n",
        "\n",
        "def init_resnet_generator(data_dir='/content/drive/MyDrive/Thư mục không có tiêu đề/fer2013/data/fer/train', with_aug=True,\n",
        "                          img_size=(197, 197), batch_size=128):\n",
        "    \"\"\" Initialize resnet generator with specified data flow\n",
        "        from directory. Minimum ResNet50 img_size - (197, 197) with\n",
        "        rgb channel \"\"\"\n",
        "    if with_aug:\n",
        "        data_generator = ImageDataGenerator(\n",
        "            horizontal_flip=True,\n",
        "            rotation_range=10,\n",
        "            zoom_range=0.1,\n",
        "            width_shift_range=0.1,\n",
        "            height_shift_range=0.1,\n",
        "            rescale=1./255\n",
        "        )\n",
        "    else:\n",
        "        data_generator = ImageDataGenerator(rescale=1./255)\n",
        "    return data_generator.flow_from_directory(\n",
        "        data_dir,\n",
        "        target_size=img_size,\n",
        "        color_mode='rgb',\n",
        "        shuffle=True,\n",
        "        batch_size=batch_size)\n",
        "\n",
        "\n",
        "def init_cnn_generator(with_aug=True):\n",
        "    \"\"\" Initialize simple cnn generator \"\"\"\n",
        "    if with_aug:\n",
        "        data_generator = ImageDataGenerator(\n",
        "            horizontal_flip=True,\n",
        "            rotation_range=15,\n",
        "            zoom_range=0.15,\n",
        "            width_shift_range=0.1,\n",
        "            height_shift_range=0.1,\n",
        "            rescale=1./255\n",
        "        )\n",
        "    else:\n",
        "        data_generator = ImageDataGenerator(rescale=1./255)\n",
        "    return data_generator\n",
        "\n",
        "\n",
        "class ResizeImageGenerator(Sequence):\n",
        "    \"\"\" Custom image generator which resizes images to\n",
        "        specified size and generates batches.\n",
        "        #TODO implement custom augumentation \"\"\"\n",
        "\n",
        "    def __init__(self, images, labels, batch_size=64, target_size=(197, 197),\n",
        "                 n_channels=3, shuffle=True):\n",
        "        self.images = images\n",
        "        self.labels = labels\n",
        "        self.batch_size = batch_size\n",
        "        self.target_size = target_size\n",
        "        self.n_channels = n_channels\n",
        "        self.shuffle = shuffle\n",
        "        self.on_epoch_end()\n",
        "\n",
        "    def __len__(self):\n",
        "        'Denotes the number of batches per epoch'\n",
        "        return len(self.images) // self.batch_size\n",
        "\n",
        "    def __getitem__(self, index):\n",
        "        'Generate one batch of data'\n",
        "        indexes = self.indexes[index*self.batch_size:(index+1)*self.batch_size]\n",
        "        x_batch = self.images[indexes]\n",
        "        x_batch = resnet_preprocess(x_batch, target_size=self.target_size,\n",
        "                                    target_channels=self.n_channels)\n",
        "        y_batch = self.labels[indexes]\n",
        "        return x_batch, y_batch\n",
        "\n",
        "    def on_epoch_end(self):\n",
        "        'Updates indexes after each epoch'\n",
        "        self.indexes = np.arange(len(self.images))\n",
        "        if self.shuffle == True:\n",
        "            np.random.shuffle(self.indexes)"
      ],
      "metadata": {
        "id": "V41fatKkSTu3"
      },
      "execution_count": null,
      "outputs": []
    },
    {
      "cell_type": "markdown",
      "source": [
        "### ***Build***"
      ],
      "metadata": {
        "id": "82t7hhv2SVpP"
      }
    },
    {
      "cell_type": "code",
      "source": [
        "from keras.models import Sequential, Model\n",
        "from keras.layers import Dense , Activation , Dropout ,Flatten, SeparableConv2D, Input, BatchNormalization, GlobalAveragePooling2D\n",
        "from keras.layers.convolutional import Conv2D, MaxPooling2D\n",
        "from keras.regularizers import l2\n",
        "from keras import layers\n",
        "\n",
        "def build_cnn_model():\n",
        "    model = Sequential()\n",
        "    input_shape=(48,48,1)\n",
        "\n",
        "    # 1. Conv\n",
        "    model.add(Conv2D(64, (3, 3), padding='same', input_shape=(48, 48,1)))\n",
        "    model.add(BatchNormalization())\n",
        "    model.add(Activation('relu'))\n",
        "    model.add(MaxPooling2D(pool_size=(2,2)))\n",
        "    model.add(Dropout(0.25))\n",
        "\n",
        "\n",
        "    # 2. Conv Layer\n",
        "    model.add(Conv2D(128, (5, 5), padding='same'))\n",
        "    model.add(BatchNormalization())\n",
        "    model.add(Activation('relu'))\n",
        "    model.add(MaxPooling2D(pool_size=(2,2)))\n",
        "    model.add(Dropout(0.25))\n",
        "\n",
        "    # 3. Conv Layer\n",
        "    model.add(Conv2D(512, (3,3), padding='same'))\n",
        "    model.add(BatchNormalization())\n",
        "    model.add(Activation('relu'))\n",
        "    model.add(MaxPooling2D(pool_size=(2,2)))\n",
        "    model.add(Dropout(0.25))\n",
        "\n",
        "    #4. Conv Layer\n",
        "    model.add(Conv2D(512, (3,3), padding='same'))\n",
        "    model.add(BatchNormalization())\n",
        "    model.add(Activation('relu'))\n",
        "    model.add(MaxPooling2D(pool_size=(2,2)))\n",
        "    model.add(Dropout(0.25))\n",
        "\n",
        "    model.add(Flatten())\n",
        "    model.add(Dense(256))\n",
        "    model.add(BatchNormalization())\n",
        "    model.add(Activation('relu'))\n",
        "    model.add(Dropout(0.25))\n",
        "\n",
        "    model.add(Dense(512))\n",
        "    model.add(BatchNormalization())\n",
        "    model.add(Activation('relu'))\n",
        "    model.add(Dropout(0.25))\n",
        "    model.add(Dense(7, activation='softmax'))\n",
        "\n",
        "    return model\n",
        "\n",
        "def build_resnet_model():\n",
        "    \"\"\" Initialize model with ResNet50 as base model. Minimum input\n",
        "        shape of keras_vggface pretrained model is (197, 197, 3).\n",
        "        For fine tuning batch normalization layers are not frozen. \"\"\"\n",
        "    resnet = VGGFace(model='resnet50', include_top=False, input_shape = (197,197,3))\n",
        "    for layer in resnet.layers:\n",
        "        if not isinstance(layer, BatchNormalization):\n",
        "            layer.trainable = False\n",
        "    model = Sequential([\n",
        "        resnet,\n",
        "        Flatten(),\n",
        "        Dropout(0.5),\n",
        "        Dense(4096, activation='relu'),\n",
        "        Dropout(0.5),\n",
        "        Dense(1024, activation='relu'),\n",
        "        Dropout(0.5),\n",
        "        Dense(7, activation='softmax')\n",
        "    ])\n",
        "    return model"
      ],
      "metadata": {
        "id": "x-pu5LVuSlhe"
      },
      "execution_count": null,
      "outputs": []
    },
    {
      "cell_type": "markdown",
      "metadata": {
        "id": "-Bct-2OKPi4n"
      },
      "source": [
        "### **Imports**"
      ]
    },
    {
      "cell_type": "code",
      "execution_count": null,
      "metadata": {
        "id": "5f5R3Ac7Pi4u"
      },
      "outputs": [],
      "source": [
        "import sys\n",
        "import os\n",
        "\n",
        "project_path = os.path.abspath(os.path.join('/'))\n",
        "if project_path not in sys.path:\n",
        "    sys.path.append(project_path)\n",
        "\n",
        "from keras.callbacks import ModelCheckpoint, EarlyStopping\n",
        "from keras.optimizers import Adam\n",
        "from keras.models import load_model\n",
        "import numpy as np"
      ]
    },
    {
      "cell_type": "markdown",
      "metadata": {
        "id": "g0Ji9E1MPi4x"
      },
      "source": [
        "### **Loading datasets**"
      ]
    },
    {
      "cell_type": "code",
      "execution_count": null,
      "metadata": {
        "id": "3VdhN9aOPi4y"
      },
      "outputs": [],
      "source": [
        "train_data, val_data, test_data = load_fer2013(file_path='data/fer2013.csv')\n",
        "X_train, Y_train = parse_fer2013(train_data)\n",
        "X_val, Y_val = parse_fer2013(val_data)\n",
        "X_test, Y_test = parse_fer2013(test_data)"
      ]
    },
    {
      "cell_type": "markdown",
      "metadata": {
        "id": "z0glQJTCPi4y"
      },
      "source": [
        "### **Model training parameters**"
      ]
    },
    {
      "cell_type": "code",
      "execution_count": null,
      "metadata": {
        "id": "y2eiqhHrPi40"
      },
      "outputs": [],
      "source": [
        "batch_size = 128\n",
        "num_epochs = 50\n",
        "patience = 20\n",
        "saved_models_path = 'models/'\n",
        "dataset_name = 'fer2013'\n",
        "model_name = '_simple_CNN_1'\n",
        "history_name = '_hist' + model_name\n",
        "\n",
        "model_path = saved_models_path + dataset_name + model_name\n",
        "\n",
        "history_path = saved_models_path + dataset_name + history_name"
      ]
    },
    {
      "cell_type": "markdown",
      "metadata": {
        "id": "3KkDXiQzPi44"
      },
      "source": [
        "### **Data generators**"
      ]
    },
    {
      "cell_type": "code",
      "execution_count": null,
      "metadata": {
        "id": "_EfQREciPi46"
      },
      "outputs": [],
      "source": [
        "train_gen = init_cnn_generator(with_aug=True)\n",
        "val_gen = init_cnn_generator(with_aug=False)"
      ]
    },
    {
      "cell_type": "markdown",
      "metadata": {
        "id": "eEwmg3vfPi47"
      },
      "source": [
        "### **Callbacks**"
      ]
    },
    {
      "cell_type": "code",
      "execution_count": null,
      "metadata": {
        "id": "tB_PZO-DPi49"
      },
      "outputs": [],
      "source": [
        "cpt_path = model_path + '.hdf5'\n",
        "early_stop = EarlyStopping('val_loss', patience=patience)\n",
        "model_checkpoint = ModelCheckpoint(cpt_path, save_best_only=True)\n",
        "callbacks = [model_checkpoint, early_stop]"
      ]
    },
    {
      "cell_type": "markdown",
      "metadata": {
        "id": "Q5_xCMcSPi4-"
      },
      "source": [
        "### **Build and compile model**"
      ]
    },
    {
      "cell_type": "code",
      "execution_count": null,
      "metadata": {
        "scrolled": true,
        "colab": {
          "base_uri": "https://localhost:8080/"
        },
        "id": "4DgyK1yBPi4_",
        "outputId": "9d9ed5e2-757b-4904-d7bb-22a5c5877854"
      },
      "outputs": [
        {
          "output_type": "stream",
          "name": "stdout",
          "text": [
            "Model: \"sequential\"\n",
            "_________________________________________________________________\n",
            " Layer (type)                Output Shape              Param #   \n",
            "=================================================================\n",
            " conv2d (Conv2D)             (None, 48, 48, 64)        640       \n",
            "                                                                 \n",
            " batch_normalization (BatchN  (None, 48, 48, 64)       256       \n",
            " ormalization)                                                   \n",
            "                                                                 \n",
            " activation (Activation)     (None, 48, 48, 64)        0         \n",
            "                                                                 \n",
            " max_pooling2d (MaxPooling2D  (None, 24, 24, 64)       0         \n",
            " )                                                               \n",
            "                                                                 \n",
            " dropout (Dropout)           (None, 24, 24, 64)        0         \n",
            "                                                                 \n",
            " conv2d_1 (Conv2D)           (None, 24, 24, 128)       204928    \n",
            "                                                                 \n",
            " batch_normalization_1 (Batc  (None, 24, 24, 128)      512       \n",
            " hNormalization)                                                 \n",
            "                                                                 \n",
            " activation_1 (Activation)   (None, 24, 24, 128)       0         \n",
            "                                                                 \n",
            " max_pooling2d_1 (MaxPooling  (None, 12, 12, 128)      0         \n",
            " 2D)                                                             \n",
            "                                                                 \n",
            " dropout_1 (Dropout)         (None, 12, 12, 128)       0         \n",
            "                                                                 \n",
            " conv2d_2 (Conv2D)           (None, 12, 12, 512)       590336    \n",
            "                                                                 \n",
            " batch_normalization_2 (Batc  (None, 12, 12, 512)      2048      \n",
            " hNormalization)                                                 \n",
            "                                                                 \n",
            " activation_2 (Activation)   (None, 12, 12, 512)       0         \n",
            "                                                                 \n",
            " max_pooling2d_2 (MaxPooling  (None, 6, 6, 512)        0         \n",
            " 2D)                                                             \n",
            "                                                                 \n",
            " dropout_2 (Dropout)         (None, 6, 6, 512)         0         \n",
            "                                                                 \n",
            " conv2d_3 (Conv2D)           (None, 6, 6, 512)         2359808   \n",
            "                                                                 \n",
            " batch_normalization_3 (Batc  (None, 6, 6, 512)        2048      \n",
            " hNormalization)                                                 \n",
            "                                                                 \n",
            " activation_3 (Activation)   (None, 6, 6, 512)         0         \n",
            "                                                                 \n",
            " max_pooling2d_3 (MaxPooling  (None, 3, 3, 512)        0         \n",
            " 2D)                                                             \n",
            "                                                                 \n",
            " dropout_3 (Dropout)         (None, 3, 3, 512)         0         \n",
            "                                                                 \n",
            " flatten (Flatten)           (None, 4608)              0         \n",
            "                                                                 \n",
            " dense (Dense)               (None, 256)               1179904   \n",
            "                                                                 \n",
            " batch_normalization_4 (Batc  (None, 256)              1024      \n",
            " hNormalization)                                                 \n",
            "                                                                 \n",
            " activation_4 (Activation)   (None, 256)               0         \n",
            "                                                                 \n",
            " dropout_4 (Dropout)         (None, 256)               0         \n",
            "                                                                 \n",
            " dense_1 (Dense)             (None, 512)               131584    \n",
            "                                                                 \n",
            " batch_normalization_5 (Batc  (None, 512)              2048      \n",
            " hNormalization)                                                 \n",
            "                                                                 \n",
            " activation_5 (Activation)   (None, 512)               0         \n",
            "                                                                 \n",
            " dropout_5 (Dropout)         (None, 512)               0         \n",
            "                                                                 \n",
            " dense_2 (Dense)             (None, 7)                 3591      \n",
            "                                                                 \n",
            "=================================================================\n",
            "Total params: 4,478,727\n",
            "Trainable params: 4,474,759\n",
            "Non-trainable params: 3,968\n",
            "_________________________________________________________________\n"
          ]
        }
      ],
      "source": [
        "model = build_cnn_model()\n",
        "opt = Adam(0.001)\n",
        "model.compile(optimizer=opt, loss='categorical_crossentropy', metrics=['accuracy'])\n",
        "model.summary()"
      ]
    },
    {
      "cell_type": "markdown",
      "metadata": {
        "id": "Q-WiidjkPi5C"
      },
      "source": [
        "### **Training**"
      ]
    },
    {
      "cell_type": "code",
      "execution_count": null,
      "metadata": {
        "id": "_xSNkqO4Pi5E",
        "colab": {
          "base_uri": "https://localhost:8080/"
        },
        "outputId": "0da5b843-5ea3-48b3-db5c-e2e032aabc0f"
      },
      "outputs": [
        {
          "output_type": "stream",
          "name": "stdout",
          "text": [
            "Epoch 1/50\n",
            "224/224 [==============================] - 5s 23ms/step - loss: 0.8274 - accuracy: 0.6883 - val_loss: 0.9662 - val_accuracy: 0.6406\n",
            "Epoch 2/50\n",
            "224/224 [==============================] - 5s 24ms/step - loss: 0.8275 - accuracy: 0.6908 - val_loss: 0.9591 - val_accuracy: 0.6462\n",
            "Epoch 3/50\n",
            "224/224 [==============================] - 5s 23ms/step - loss: 0.8428 - accuracy: 0.6889 - val_loss: 0.9555 - val_accuracy: 0.6540\n",
            "Epoch 4/50\n",
            "224/224 [==============================] - 5s 23ms/step - loss: 0.8254 - accuracy: 0.6907 - val_loss: 1.0145 - val_accuracy: 0.6161\n",
            "Epoch 5/50\n",
            "224/224 [==============================] - 5s 24ms/step - loss: 0.8214 - accuracy: 0.6930 - val_loss: 0.9304 - val_accuracy: 0.6518\n",
            "Epoch 6/50\n",
            "224/224 [==============================] - 5s 23ms/step - loss: 0.8291 - accuracy: 0.6894 - val_loss: 0.9853 - val_accuracy: 0.6373\n",
            "Epoch 7/50\n",
            "224/224 [==============================] - 5s 23ms/step - loss: 0.8373 - accuracy: 0.6853 - val_loss: 1.1339 - val_accuracy: 0.5938\n",
            "Epoch 8/50\n",
            "224/224 [==============================] - 5s 23ms/step - loss: 0.8312 - accuracy: 0.6863 - val_loss: 0.9380 - val_accuracy: 0.6629\n",
            "Epoch 9/50\n",
            "224/224 [==============================] - 5s 24ms/step - loss: 0.8134 - accuracy: 0.6989 - val_loss: 0.9754 - val_accuracy: 0.6462\n",
            "Epoch 10/50\n",
            "224/224 [==============================] - 5s 24ms/step - loss: 0.8159 - accuracy: 0.6959 - val_loss: 0.9336 - val_accuracy: 0.6574\n",
            "Epoch 11/50\n",
            "224/224 [==============================] - 5s 24ms/step - loss: 0.8157 - accuracy: 0.6938 - val_loss: 0.9852 - val_accuracy: 0.6395\n",
            "Epoch 12/50\n",
            "224/224 [==============================] - 5s 23ms/step - loss: 0.8159 - accuracy: 0.6988 - val_loss: 0.9459 - val_accuracy: 0.6529\n",
            "Epoch 13/50\n",
            "224/224 [==============================] - 5s 24ms/step - loss: 0.8182 - accuracy: 0.6967 - val_loss: 1.0628 - val_accuracy: 0.6172\n",
            "Epoch 14/50\n",
            "224/224 [==============================] - 5s 24ms/step - loss: 0.8074 - accuracy: 0.6971 - val_loss: 0.9645 - val_accuracy: 0.6339\n",
            "Epoch 15/50\n",
            "224/224 [==============================] - 5s 24ms/step - loss: 0.8339 - accuracy: 0.6838 - val_loss: 0.9695 - val_accuracy: 0.6317\n",
            "Epoch 16/50\n",
            "224/224 [==============================] - 5s 24ms/step - loss: 0.8097 - accuracy: 0.6961 - val_loss: 0.9536 - val_accuracy: 0.6540\n",
            "Epoch 17/50\n",
            "224/224 [==============================] - 5s 24ms/step - loss: 0.8211 - accuracy: 0.6899 - val_loss: 0.9891 - val_accuracy: 0.6373\n",
            "Epoch 18/50\n",
            "224/224 [==============================] - 5s 24ms/step - loss: 0.8254 - accuracy: 0.6870 - val_loss: 0.9543 - val_accuracy: 0.6719\n",
            "Epoch 19/50\n",
            "224/224 [==============================] - 5s 24ms/step - loss: 0.8170 - accuracy: 0.6927 - val_loss: 0.8802 - val_accuracy: 0.6652\n",
            "Epoch 20/50\n",
            "224/224 [==============================] - 5s 24ms/step - loss: 0.8172 - accuracy: 0.6989 - val_loss: 1.0199 - val_accuracy: 0.6272\n",
            "Epoch 21/50\n",
            "224/224 [==============================] - 5s 24ms/step - loss: 0.8032 - accuracy: 0.7001 - val_loss: 0.9301 - val_accuracy: 0.6674\n",
            "Epoch 22/50\n",
            "224/224 [==============================] - 6s 25ms/step - loss: 0.8204 - accuracy: 0.6931 - val_loss: 0.9385 - val_accuracy: 0.6562\n",
            "Epoch 23/50\n",
            "224/224 [==============================] - 5s 24ms/step - loss: 0.8092 - accuracy: 0.6946 - val_loss: 1.0307 - val_accuracy: 0.6228\n",
            "Epoch 24/50\n",
            "224/224 [==============================] - 5s 22ms/step - loss: 0.8369 - accuracy: 0.6837 - val_loss: 1.1031 - val_accuracy: 0.6027\n",
            "Epoch 25/50\n",
            "224/224 [==============================] - 5s 23ms/step - loss: 0.8320 - accuracy: 0.6815 - val_loss: 0.9464 - val_accuracy: 0.6496\n",
            "Epoch 26/50\n",
            "224/224 [==============================] - 5s 22ms/step - loss: 0.7964 - accuracy: 0.7037 - val_loss: 0.9533 - val_accuracy: 0.6574\n",
            "Epoch 27/50\n",
            "224/224 [==============================] - 5s 22ms/step - loss: 0.8140 - accuracy: 0.6967 - val_loss: 0.9765 - val_accuracy: 0.6429\n",
            "Epoch 28/50\n",
            "224/224 [==============================] - 6s 29ms/step - loss: 0.8098 - accuracy: 0.6934 - val_loss: 1.0042 - val_accuracy: 0.6362\n",
            "Epoch 29/50\n",
            "224/224 [==============================] - 5s 23ms/step - loss: 0.8062 - accuracy: 0.6993 - val_loss: 0.9791 - val_accuracy: 0.6429\n",
            "Epoch 30/50\n",
            "224/224 [==============================] - 5s 23ms/step - loss: 0.7958 - accuracy: 0.7030 - val_loss: 1.0239 - val_accuracy: 0.6339\n",
            "Epoch 31/50\n",
            "224/224 [==============================] - 5s 23ms/step - loss: 0.7921 - accuracy: 0.7107 - val_loss: 0.9939 - val_accuracy: 0.6540\n",
            "Epoch 32/50\n",
            "224/224 [==============================] - 5s 22ms/step - loss: 0.7725 - accuracy: 0.7131 - val_loss: 1.0115 - val_accuracy: 0.6261\n",
            "Epoch 33/50\n",
            "224/224 [==============================] - 5s 23ms/step - loss: 0.8109 - accuracy: 0.7019 - val_loss: 0.9488 - val_accuracy: 0.6473\n",
            "Epoch 34/50\n",
            "224/224 [==============================] - 5s 23ms/step - loss: 0.7861 - accuracy: 0.7054 - val_loss: 0.9534 - val_accuracy: 0.6339\n",
            "Epoch 35/50\n",
            "224/224 [==============================] - 5s 23ms/step - loss: 0.7881 - accuracy: 0.7087 - val_loss: 1.0169 - val_accuracy: 0.6429\n",
            "Epoch 36/50\n",
            "224/224 [==============================] - 5s 23ms/step - loss: 0.8071 - accuracy: 0.6991 - val_loss: 0.9165 - val_accuracy: 0.6819\n",
            "Epoch 37/50\n",
            "224/224 [==============================] - 5s 23ms/step - loss: 0.7928 - accuracy: 0.7005 - val_loss: 0.9034 - val_accuracy: 0.6674\n",
            "Epoch 38/50\n",
            "224/224 [==============================] - 5s 23ms/step - loss: 0.7884 - accuracy: 0.7033 - val_loss: 0.9306 - val_accuracy: 0.6451\n",
            "Epoch 39/50\n",
            "224/224 [==============================] - 5s 22ms/step - loss: 0.7892 - accuracy: 0.7080 - val_loss: 0.9586 - val_accuracy: 0.6607\n"
          ]
        }
      ],
      "source": [
        "history = model.fit(train_gen.flow(X_train, Y_train),\n",
        "                    validation_data=val_gen.flow(X_val, Y_val),\n",
        "                    epochs=num_epochs,\n",
        "                    steps_per_epoch=len(X_train)//batch_size,\n",
        "                    validation_steps=len(X_val)//batch_size,\n",
        "                    callbacks=callbacks)\n",
        "\n",
        "# Saving final model and history\n",
        "val_acc = history.history['val_accuracy'][-1]\n",
        "cnt_epoch = len(history.history['val_accuracy'])\n",
        "np.save(f'{history_path}-e{cnt_epoch:02d}-a{val_acc:.2f}.npy', history.history)\n",
        "model.save(f'{model_path}-e{cnt_epoch:02d}-a{val_acc:.2f}.hdf5')"
      ]
    },
    {
      "cell_type": "markdown",
      "metadata": {
        "id": "iyHrVkbOPi5F"
      },
      "source": [
        "### **Loading (if needed)**"
      ]
    },
    {
      "cell_type": "code",
      "source": [
        "history = np.load(\"models/fer2013_hist_simple_CNN_1-e50-a0.64.npy\", allow_pickle=True)\n",
        "history = history.item()\n",
        "model = load_model('models/fer2013_simple_CNN_1-e50-a0.64.hdf5')"
      ],
      "metadata": {
        "id": "84g45yat5CxH"
      },
      "execution_count": null,
      "outputs": []
    },
    {
      "cell_type": "markdown",
      "metadata": {
        "id": "z-vWa5RgPi5H"
      },
      "source": [
        "### **Evaluation**"
      ]
    },
    {
      "cell_type": "code",
      "execution_count": null,
      "metadata": {
        "id": "gWihxkfoPi5H",
        "colab": {
          "base_uri": "https://localhost:8080/"
        },
        "outputId": "89eff8e9-1f0c-4502-c3d5-1e6986b99687"
      },
      "outputs": [
        {
          "output_type": "stream",
          "name": "stdout",
          "text": [
            "113/113 [==============================] - 8s 7ms/step - loss: 0.9183 - accuracy: 0.6684\n",
            "Model accuracy: 66.84%\n"
          ]
        }
      ],
      "source": [
        "X_test = X_test / 255.0\n",
        "loss, acc = model.evaluate(X_test, Y_test)\n",
        "print(\"Model accuracy: {:5.2f}%\".format(100 * acc))"
      ]
    },
    {
      "cell_type": "markdown",
      "metadata": {
        "id": "T-XVuF12Pi5I"
      },
      "source": [
        "### **Ploting curves**"
      ]
    },
    {
      "cell_type": "code",
      "execution_count": null,
      "metadata": {
        "id": "nAk4YiHqPi5I",
        "colab": {
          "base_uri": "https://localhost:8080/",
          "height": 336
        },
        "outputId": "a1931c92-2d93-4418-a894-5c7a718ac97d"
      },
      "outputs": [
        {
          "output_type": "display_data",
          "data": {
            "text/plain": [
              "<Figure size 720x360 with 2 Axes>"
            ],
            "image/png": "[encoded data removed]"
          },
          "metadata": {
            "needs_background": "light"
          }
        }
      ],
      "source": [
        "plot_model_history(history)"
      ]
    },
    {
      "cell_type": "code",
      "source": [
        "result = tf.keras.models.load_model(\"models/fer2013_simple_CNN_2-e88-a0.65.hdf5\")"
      ],
      "metadata": {
        "id": "ZRuqtIbR0ha2"
      },
      "execution_count": null,
      "outputs": []
    },
    {
      "cell_type": "code",
      "source": [
        "pre = result.predict(X_test[14:15])"
      ],
      "metadata": {
        "colab": {
          "base_uri": "https://localhost:8080/"
        },
        "id": "u0HyCMV801rR",
        "outputId": "abed0886-3165-4390-86be-9b348ab87042"
      },
      "execution_count": null,
      "outputs": [
        {
          "output_type": "stream",
          "name": "stdout",
          "text": [
            "1/1 [==============================] - 0s 207ms/step\n"
          ]
        }
      ]
    },
    {
      "cell_type": "code",
      "source": [
        "ls"
      ],
      "metadata": {
        "colab": {
          "base_uri": "https://localhost:8080/"
        },
        "id": "lsQ5DiIV8q3f",
        "outputId": "8f1d5a6e-2a03-46f7-b57d-53813989ffa6"
      },
      "execution_count": null,
      "outputs": [
        {
          "output_type": "stream",
          "name": "stdout",
          "text": [
            "\u001b[0m\u001b[01;34massets\u001b[0m/  modelsfer2013_hist_resnet50_1-e20-a0.70.npy  model_weights_v1.h5\n",
            "\u001b[01;34mdata\u001b[0m/    modelsfer2013_resnet50_1-e20-a0.70.hdf5      \u001b[01;34mnotebook\u001b[0m/\n",
            "\u001b[01;34mmodels\u001b[0m/  modelsfer2013_resnet50_1.hdf5                webcam.py\n"
          ]
        }
      ]
    },
    {
      "cell_type": "code",
      "source": [
        "model1 = load_model(\"model_weights_v1.h5\")"
      ],
      "metadata": {
        "colab": {
          "base_uri": "https://localhost:8080/",
          "height": 311
        },
        "id": "iyjwckqa8eFi",
        "outputId": "798617e8-8e87-4315-bff0-d2e346ff2c5b"
      },
      "execution_count": null,
      "outputs": [
        {
          "output_type": "error",
          "ename": "ValueError",
          "evalue": "ignored",
          "traceback": [
            "\u001b[0;31m---------------------------------------------------------------------------\u001b[0m",
            "\u001b[0;31mValueError\u001b[0m                                Traceback (most recent call last)",
            "\u001b[0;32m<ipython-input-13-a1698f1448b0>\u001b[0m in \u001b[0;36m<module>\u001b[0;34m\u001b[0m\n\u001b[0;32m----> 1\u001b[0;31m \u001b[0mmodel1\u001b[0m \u001b[0;34m=\u001b[0m \u001b[0mload_model\u001b[0m\u001b[0;34m(\u001b[0m\u001b[0;34m\"model_weights_v1.h5\"\u001b[0m\u001b[0;34m)\u001b[0m\u001b[0;34m\u001b[0m\u001b[0;34m\u001b[0m\u001b[0m\n\u001b[0m",
            "\u001b[0;32m/usr/local/lib/python3.7/dist-packages/keras/utils/traceback_utils.py\u001b[0m in \u001b[0;36merror_handler\u001b[0;34m(*args, **kwargs)\u001b[0m\n\u001b[1;32m     65\u001b[0m     \u001b[0;32mexcept\u001b[0m \u001b[0mException\u001b[0m \u001b[0;32mas\u001b[0m \u001b[0me\u001b[0m\u001b[0;34m:\u001b[0m  \u001b[0;31m# pylint: disable=broad-except\u001b[0m\u001b[0;34m\u001b[0m\u001b[0;34m\u001b[0m\u001b[0m\n\u001b[1;32m     66\u001b[0m       \u001b[0mfiltered_tb\u001b[0m \u001b[0;34m=\u001b[0m \u001b[0m_process_traceback_frames\u001b[0m\u001b[0;34m(\u001b[0m\u001b[0me\u001b[0m\u001b[0;34m.\u001b[0m\u001b[0m__traceback__\u001b[0m\u001b[0;34m)\u001b[0m\u001b[0;34m\u001b[0m\u001b[0;34m\u001b[0m\u001b[0m\n\u001b[0;32m---> 67\u001b[0;31m       \u001b[0;32mraise\u001b[0m \u001b[0me\u001b[0m\u001b[0;34m.\u001b[0m\u001b[0mwith_traceback\u001b[0m\u001b[0;34m(\u001b[0m\u001b[0mfiltered_tb\u001b[0m\u001b[0;34m)\u001b[0m \u001b[0;32mfrom\u001b[0m \u001b[0;32mNone\u001b[0m\u001b[0;34m\u001b[0m\u001b[0;34m\u001b[0m\u001b[0m\n\u001b[0m\u001b[1;32m     68\u001b[0m     \u001b[0;32mfinally\u001b[0m\u001b[0;34m:\u001b[0m\u001b[0;34m\u001b[0m\u001b[0;34m\u001b[0m\u001b[0m\n\u001b[1;32m     69\u001b[0m       \u001b[0;32mdel\u001b[0m \u001b[0mfiltered_tb\u001b[0m\u001b[0;34m\u001b[0m\u001b[0;34m\u001b[0m\u001b[0m\n",
            "\u001b[0;32m/usr/local/lib/python3.7/dist-packages/keras/saving/hdf5_format.py\u001b[0m in \u001b[0;36mload_model_from_hdf5\u001b[0;34m(filepath, custom_objects, compile)\u001b[0m\n\u001b[1;32m    180\u001b[0m     \u001b[0mmodel_config\u001b[0m \u001b[0;34m=\u001b[0m \u001b[0mf\u001b[0m\u001b[0;34m.\u001b[0m\u001b[0mattrs\u001b[0m\u001b[0;34m.\u001b[0m\u001b[0mget\u001b[0m\u001b[0;34m(\u001b[0m\u001b[0;34m'model_config'\u001b[0m\u001b[0;34m)\u001b[0m\u001b[0;34m\u001b[0m\u001b[0;34m\u001b[0m\u001b[0m\n\u001b[1;32m    181\u001b[0m     \u001b[0;32mif\u001b[0m \u001b[0mmodel_config\u001b[0m \u001b[0;32mis\u001b[0m \u001b[0;32mNone\u001b[0m\u001b[0;34m:\u001b[0m\u001b[0;34m\u001b[0m\u001b[0;34m\u001b[0m\u001b[0m\n\u001b[0;32m--> 182\u001b[0;31m       \u001b[0;32mraise\u001b[0m \u001b[0mValueError\u001b[0m\u001b[0;34m(\u001b[0m\u001b[0;34mf'No model config found in the file at {filepath}.'\u001b[0m\u001b[0;34m)\u001b[0m\u001b[0;34m\u001b[0m\u001b[0;34m\u001b[0m\u001b[0m\n\u001b[0m\u001b[1;32m    183\u001b[0m     \u001b[0;32mif\u001b[0m \u001b[0mhasattr\u001b[0m\u001b[0;34m(\u001b[0m\u001b[0mmodel_config\u001b[0m\u001b[0;34m,\u001b[0m \u001b[0;34m'decode'\u001b[0m\u001b[0;34m)\u001b[0m\u001b[0;34m:\u001b[0m\u001b[0;34m\u001b[0m\u001b[0;34m\u001b[0m\u001b[0m\n\u001b[1;32m    184\u001b[0m       \u001b[0mmodel_config\u001b[0m \u001b[0;34m=\u001b[0m \u001b[0mmodel_config\u001b[0m\u001b[0;34m.\u001b[0m\u001b[0mdecode\u001b[0m\u001b[0;34m(\u001b[0m\u001b[0;34m'utf-8'\u001b[0m\u001b[0;34m)\u001b[0m\u001b[0;34m\u001b[0m\u001b[0;34m\u001b[0m\u001b[0m\n",
            "\u001b[0;31mValueError\u001b[0m: No model config found in the file at <tensorflow.python.platform.gfile.GFile object at 0x7fda024979d0>."
          ]
        }
      ]
    },
    {
      "cell_type": "code",
      "source": [],
      "metadata": {
        "id": "2jbJV8On8lU4"
      },
      "execution_count": null,
      "outputs": []
    }
  ],
  "metadata": {
    "kernelspec": {
      "display_name": "Python 3",
      "name": "python3"
    },
    "language_info": {
      "name": "python"
    },
    "colab": {
      "provenance": [],
      "collapsed_sections": [
        "przZ5JIFSG1x"
      ]
    },
    "gpuClass": "standard",
    "accelerator": "GPU"
  },
  "nbformat": 4,
  "nbformat_minor": 0
}